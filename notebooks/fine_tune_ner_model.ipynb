{
 "cells": [
  {
   "cell_type": "markdown",
   "metadata": {},
   "source": [
    "# Import necessary libraries"
   ]
  },
  {
   "cell_type": "code",
   "execution_count": 9,
   "metadata": {},
   "outputs": [],
   "source": [
    "from datasets import load_dataset\n",
    "from transformers import AutoTokenizer, AutoModelForTokenClassification, TrainingArguments, Trainer\n",
    "from transformers import DataCollatorForTokenClassification\n",
    "import os\n",
    "import pandas as pd\n",
    "from tqdm import tqdm"
   ]
  },
  {
   "cell_type": "code",
   "execution_count": 14,
   "metadata": {},
   "outputs": [],
   "source": [
    "def load_conll_files(conll_files):\n",
    "    merged_data = []\n",
    "    for file_path in tqdm(conll_files):\n",
    "        with open(file_path, 'r', encoding='utf-8') as file:\n",
    "            sentence, labels = [], []\n",
    "            for line in file:\n",
    "                # Check for non-empty lines\n",
    "                if line.strip():\n",
    "                    parts = line.strip().split()\n",
    "                    if len(parts) == 2:  # Ensure there are exactly 2 parts (word and label)\n",
    "                        word, label = parts\n",
    "                        sentence.append(word)\n",
    "                        labels.append(label)\n",
    "                    else:\n",
    "                        print(f\"Skipping malformed line in {file_path}: {line.strip()}\")\n",
    "                else:\n",
    "                    # If it's an empty line, store the current sentence and labels, then reset\n",
    "                    if sentence:\n",
    "                        merged_data.append((sentence, labels))\n",
    "                        sentence, labels = [], []\n",
    "    # Append the last sentence if file doesn't end with a newline\n",
    "    if sentence:\n",
    "        merged_data.append((sentence, labels))\n",
    "    return merged_data"
   ]
  },
  {
   "cell_type": "code",
   "execution_count": 25,
   "metadata": {},
   "outputs": [],
   "source": [
    "# Step 3: Provide the file paths to the .conll files you want to merge\n",
    "conll_file_paths = [\n",
    "    '../data/labeled_ner_data.conll',\n",
    "    '../data/qnashcom_labeled_data.conll',\n",
    "    '../data/labeled_data.conll',\n",
    "    '../data/labeled_data_conll.conll',\n",
    "    '../data/labeled_data (1).conll',\n",
    "    '../data/@mertteka_labeled_data.conll'\n",
    "]"
   ]
  },
  {
   "cell_type": "code",
   "execution_count": 26,
   "metadata": {},
   "outputs": [
    {
     "name": "stderr",
     "output_type": "stream",
     "text": [
      "100%|██████████| 6/6 [00:00<00:00, 38.00it/s]"
     ]
    },
    {
     "name": "stdout",
     "output_type": "stream",
     "text": [
      "Skipping malformed line in ../data/qnashcom_labeled_data.conll: ጥራት\n",
      "Skipping malformed line in ../data/qnashcom_labeled_data.conll: ️\n"
     ]
    },
    {
     "name": "stderr",
     "output_type": "stream",
     "text": [
      "\n"
     ]
    }
   ],
   "source": [
    "# Step 4: Load and merge all the .conll files\n",
    "merged_data = load_conll_files(conll_file_paths)"
   ]
  },
  {
   "cell_type": "code",
   "execution_count": 27,
   "metadata": {},
   "outputs": [],
   "source": [
    "# Step 5: Save merged data to a new .conll file\n",
    "def save_to_conll(merged_data, output_file):\n",
    "    with open(output_file, 'w', encoding='utf-8') as f:\n",
    "        for sentence, labels in merged_data:\n",
    "            for word, label in zip(sentence, labels):\n",
    "                f.write(f\"{word} {label}\\n\")\n",
    "            f.write(\"\\n\") "
   ]
  },
  {
   "cell_type": "code",
   "execution_count": 28,
   "metadata": {},
   "outputs": [
    {
     "name": "stdout",
     "output_type": "stream",
     "text": [
      "Merged data saved as ../data/merged_amharic_ner_data.conll.\n"
     ]
    }
   ],
   "source": [
    "# Step 6: Save merged data as a .conll file\n",
    "output_conll_path = \"../data/merged_amharic_ner_data.conll\"\n",
    "save_to_conll(merged_data, output_conll_path)\n",
    "print(f\"Merged data saved as {output_conll_path}.\")"
   ]
  },
  {
   "cell_type": "markdown",
   "metadata": {},
   "source": [
    "# Load the dataset\n"
   ]
  },
  {
   "cell_type": "code",
   "execution_count": null,
   "metadata": {},
   "outputs": [],
   "source": [
    "dataset=load_dataset(\"labeled_data.conll\", split=\"train\")\n"
   ]
  }
 ],
 "metadata": {
  "kernelspec": {
   "display_name": "venv",
   "language": "python",
   "name": "python3"
  },
  "language_info": {
   "codemirror_mode": {
    "name": "ipython",
    "version": 3
   },
   "file_extension": ".py",
   "mimetype": "text/x-python",
   "name": "python",
   "nbconvert_exporter": "python",
   "pygments_lexer": "ipython3",
   "version": "3.12.6"
  }
 },
 "nbformat": 4,
 "nbformat_minor": 2
}
