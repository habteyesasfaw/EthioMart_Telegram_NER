{
 "cells": [
  {
   "cell_type": "markdown",
   "metadata": {},
   "source": [
    "# Import necessary libraries"
   ]
  },
  {
   "cell_type": "code",
   "execution_count": 3,
   "metadata": {},
   "outputs": [],
   "source": [
    "import pandas as pd\n",
    "import re\n"
   ]
  },
  {
   "cell_type": "markdown",
   "metadata": {},
   "source": [
    "# Load preprocessed data\n"
   ]
  },
  {
   "cell_type": "code",
   "execution_count": 4,
   "metadata": {},
   "outputs": [],
   "source": [
    "data_path = \"../data/preprocessed_telegram_data.csv\"\n",
    "df = pd.read_csv(data_path)"
   ]
  },
  {
   "cell_type": "code",
   "execution_count": 10,
   "metadata": {},
   "outputs": [],
   "source": [
    "# Function to manually label tokens for NER\n",
    "def label_amharic_text_conll(df, entity_dict):\n",
    "    labeled_data = []\n",
    "    \n",
    "    for index, row in df.iterrows():\n",
    "        message = row['cleaned_text']\n",
    "        tokens = row['tokens']\n",
    "        sentence_labels = []\n",
    "\n",
    "        # For simplicity, we're labeling based on dictionary lookups for demos\n",
    "        for token in tokens:\n",
    "            if token in entity_dict['Product']:\n",
    "                label = 'B-Product'\n",
    "            elif token in entity_dict['Location']:\n",
    "                label = 'B-LOC'\n",
    "            elif token in entity_dict['Price']:\n",
    "                label = 'B-PRICE'\n",
    "            else:\n",
    "                label = 'O'\n",
    "            sentence_labels.append(f\"{token} {label}\")\n",
    "        \n",
    "        labeled_data.append('\\n'.join(sentence_labels))\n",
    "    \n",
    "    return labeled_data"
   ]
  },
  {
   "cell_type": "code",
   "execution_count": 15,
   "metadata": {},
   "outputs": [],
   "source": [
    "# Sample dictionary to simulate entities\n",
    "entity_dict = {\n",
    "    'Product': ['ሻርቤት', 'እግርብሮሰር'],\n",
    "    'Location': ['አዲስአበባ', 'ቦሌ'],\n",
    "    'Price': ['100', 'ብር']\n",
    "}"
   ]
  },
  {
   "cell_type": "markdown",
   "metadata": {},
   "source": [
    "# Label the text\n"
   ]
  },
  {
   "cell_type": "code",
   "execution_count": 12,
   "metadata": {},
   "outputs": [],
   "source": [
    "labeled_data = label_amharic_text_conll(df, entity_dict)"
   ]
  },
  {
   "cell_type": "markdown",
   "metadata": {},
   "source": [
    "# Save the labeled data in CoNLL format\n"
   ]
  },
  {
   "cell_type": "code",
   "execution_count": 13,
   "metadata": {},
   "outputs": [
    {
     "name": "stdout",
     "output_type": "stream",
     "text": [
      "Labeled data saved to ../data/labeled_amharic_data.conll\n"
     ]
    }
   ],
   "source": [
    "output_file = \"../data/labeled_amharic_data.conll\"\n",
    "with open(output_file, 'w', encoding='utf-8') as f:\n",
    "    for sentence in labeled_data:\n",
    "        f.write(sentence + \"\\n\\n\")\n",
    "\n",
    "print(f\"Labeled data saved to {output_file}\")"
   ]
  }
 ],
 "metadata": {
  "kernelspec": {
   "display_name": "venv",
   "language": "python",
   "name": "python3"
  },
  "language_info": {
   "codemirror_mode": {
    "name": "ipython",
    "version": 3
   },
   "file_extension": ".py",
   "mimetype": "text/x-python",
   "name": "python",
   "nbconvert_exporter": "python",
   "pygments_lexer": "ipython3",
   "version": "3.12.6"
  }
 },
 "nbformat": 4,
 "nbformat_minor": 2
}
