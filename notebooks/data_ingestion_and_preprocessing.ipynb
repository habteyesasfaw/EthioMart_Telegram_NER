{
 "cells": [
  {
   "cell_type": "code",
   "execution_count": 1,
   "metadata": {},
   "outputs": [
    {
     "name": "stderr",
     "output_type": "stream",
     "text": [
      "c:\\Users\\habteyes.asfaw\\10Accadamy\\EthioMart_Telegram_NER\\venv\\Lib\\site-packages\\tqdm\\auto.py:21: TqdmWarning: IProgress not found. Please update jupyter and ipywidgets. See https://ipywidgets.readthedocs.io/en/stable/user_install.html\n",
      "  from .autonotebook import tqdm as notebook_tqdm\n"
     ]
    }
   ],
   "source": [
    "import pandas as pd\n",
    "import re\n",
    "from transformers import AutoTokenizer\n",
    "import os\n"
   ]
  },
  {
   "cell_type": "markdown",
   "metadata": {},
   "source": [
    "# Load the data\n"
   ]
  },
  {
   "cell_type": "code",
   "execution_count": 2,
   "metadata": {},
   "outputs": [
    {
     "data": {
      "text/html": [
       "<div>\n",
       "<style scoped>\n",
       "    .dataframe tbody tr th:only-of-type {\n",
       "        vertical-align: middle;\n",
       "    }\n",
       "\n",
       "    .dataframe tbody tr th {\n",
       "        vertical-align: top;\n",
       "    }\n",
       "\n",
       "    .dataframe thead th {\n",
       "        text-align: right;\n",
       "    }\n",
       "</style>\n",
       "<table border=\"1\" class=\"dataframe\">\n",
       "  <thead>\n",
       "    <tr style=\"text-align: right;\">\n",
       "      <th></th>\n",
       "      <th>Channel Title</th>\n",
       "      <th>Channel Username</th>\n",
       "      <th>ID</th>\n",
       "      <th>Message</th>\n",
       "      <th>Date</th>\n",
       "      <th>Media Path</th>\n",
       "    </tr>\n",
       "  </thead>\n",
       "  <tbody>\n",
       "    <tr>\n",
       "      <th>0</th>\n",
       "      <td>ሀይሚ ቦንዳ/Haymi Bonda</td>\n",
       "      <td>Yebonda_libsoch</td>\n",
       "      <td>4158</td>\n",
       "      <td>#መልካም_በዓል ❤\\n\\n✝ለመላው የክርስትና እምነት ተከታዮች በሙሉ እንኳ...</td>\n",
       "      <td>2024-09-26 14:37:04+00:00</td>\n",
       "      <td>photos\\Yebonda_libsoch_4158.jpg</td>\n",
       "    </tr>\n",
       "    <tr>\n",
       "      <th>1</th>\n",
       "      <td>ሀይሚ ቦንዳ/Haymi Bonda</td>\n",
       "      <td>Yebonda_libsoch</td>\n",
       "      <td>4157</td>\n",
       "      <td>🌼መልካም አዲስ አመት ይሁንልን🌼</td>\n",
       "      <td>2024-09-11 07:26:15+00:00</td>\n",
       "      <td>photos\\Yebonda_libsoch_4157.jpg</td>\n",
       "    </tr>\n",
       "    <tr>\n",
       "      <th>2</th>\n",
       "      <td>ሀይሚ ቦንዳ/Haymi Bonda</td>\n",
       "      <td>Yebonda_libsoch</td>\n",
       "      <td>4156</td>\n",
       "      <td>NaN</td>\n",
       "      <td>2024-09-04 19:59:49+00:00</td>\n",
       "      <td>NaN</td>\n",
       "    </tr>\n",
       "    <tr>\n",
       "      <th>3</th>\n",
       "      <td>ሀይሚ ቦንዳ/Haymi Bonda</td>\n",
       "      <td>Yebonda_libsoch</td>\n",
       "      <td>4155</td>\n",
       "      <td>♨️ውድ የሀይሚ ቦንዳ ደንበኞቻችን  ከሞያሌ ያመጣናቸውን ጥራት ያላቸው \\...</td>\n",
       "      <td>2024-09-03 18:55:54+00:00</td>\n",
       "      <td>NaN</td>\n",
       "    </tr>\n",
       "    <tr>\n",
       "      <th>4</th>\n",
       "      <td>ሀይሚ ቦንዳ/Haymi Bonda</td>\n",
       "      <td>Yebonda_libsoch</td>\n",
       "      <td>4154</td>\n",
       "      <td>ከነገ ጀምሮ ልብሶችን ከ50 ብር ጀምሮ ሱቃችን መጥተው መገበያየት ይችላሉ...</td>\n",
       "      <td>2024-08-28 18:21:13+00:00</td>\n",
       "      <td>NaN</td>\n",
       "    </tr>\n",
       "  </tbody>\n",
       "</table>\n",
       "</div>"
      ],
      "text/plain": [
       "         Channel Title Channel Username    ID  \\\n",
       "0  ሀይሚ ቦንዳ/Haymi Bonda  Yebonda_libsoch  4158   \n",
       "1  ሀይሚ ቦንዳ/Haymi Bonda  Yebonda_libsoch  4157   \n",
       "2  ሀይሚ ቦንዳ/Haymi Bonda  Yebonda_libsoch  4156   \n",
       "3  ሀይሚ ቦንዳ/Haymi Bonda  Yebonda_libsoch  4155   \n",
       "4  ሀይሚ ቦንዳ/Haymi Bonda  Yebonda_libsoch  4154   \n",
       "\n",
       "                                             Message  \\\n",
       "0  #መልካም_በዓል ❤\\n\\n✝ለመላው የክርስትና እምነት ተከታዮች በሙሉ እንኳ...   \n",
       "1                               🌼መልካም አዲስ አመት ይሁንልን🌼   \n",
       "2                                                NaN   \n",
       "3  ♨️ውድ የሀይሚ ቦንዳ ደንበኞቻችን  ከሞያሌ ያመጣናቸውን ጥራት ያላቸው \\...   \n",
       "4  ከነገ ጀምሮ ልብሶችን ከ50 ብር ጀምሮ ሱቃችን መጥተው መገበያየት ይችላሉ...   \n",
       "\n",
       "                        Date                       Media Path  \n",
       "0  2024-09-26 14:37:04+00:00  photos\\Yebonda_libsoch_4158.jpg  \n",
       "1  2024-09-11 07:26:15+00:00  photos\\Yebonda_libsoch_4157.jpg  \n",
       "2  2024-09-04 19:59:49+00:00                              NaN  \n",
       "3  2024-09-03 18:55:54+00:00                              NaN  \n",
       "4  2024-08-28 18:21:13+00:00                              NaN  "
      ]
     },
     "execution_count": 2,
     "metadata": {},
     "output_type": "execute_result"
    }
   ],
   "source": [
    "# Load the data\n",
    "data_path = '../data/telegram_data.csv'\n",
    "df = pd.read_csv(data_path)\n",
    "\n",
    "# Display the first few rows\n",
    "df.head()"
   ]
  },
  {
   "cell_type": "code",
   "execution_count": 3,
   "metadata": {},
   "outputs": [
    {
     "name": "stderr",
     "output_type": "stream",
     "text": [
      "c:\\Users\\habteyes.asfaw\\10Accadamy\\EthioMart_Telegram_NER\\venv\\Lib\\site-packages\\transformers\\tokenization_utils_base.py:1617: FutureWarning: `clean_up_tokenization_spaces` was not set. It will be set to `True` by default. This behavior will be deprecated in transformers v4.45, and will be then set to `False` by default. For more details check this issue: https://github.com/huggingface/transformers/issues/31884\n",
      "  warnings.warn(\n"
     ]
    }
   ],
   "source": [
    "# Initialize the pre-trained tokenizer (multilingual, supports Amharic)\n",
    "tokenizer = AutoTokenizer.from_pretrained(\"xlm-roberta-base\")"
   ]
  },
  {
   "cell_type": "code",
   "execution_count": 4,
   "metadata": {},
   "outputs": [],
   "source": [
    "# Tokenization function for Amharic text\n",
    "def tokenize_amharic(text):\n",
    "    return tokenizer.tokenize(text)"
   ]
  },
  {
   "cell_type": "code",
   "execution_count": 8,
   "metadata": {},
   "outputs": [],
   "source": [
    "def clean_amharic_text(text):\n",
    "    if not isinstance(text, str):\n",
    "        text = ''  # Convert non-string values (e.g., NaN, float) to empty string\n",
    "    # Replace unwanted characters, normalize spaces, etc.\n",
    "    text = re.sub(r'[^\\\\w\\\\s]', '', text)  # Removing special characters\n",
    "    text = re.sub(r'\\\\s+', ' ', text).strip()  # Normalize whitespace\n",
    "    return text"
   ]
  },
  {
   "cell_type": "markdown",
   "metadata": {},
   "source": [
    "# Preprocess Amharic text"
   ]
  },
  {
   "cell_type": "code",
   "execution_count": 9,
   "metadata": {},
   "outputs": [],
   "source": [
    "def preprocess_data(df):\n",
    "    df['Message'] = df['Message'].fillna('')  ## Handle NaN values\n",
    "    df['cleaned_text'] = df['Message'].apply(clean_amharic_text)\n",
    "    df['tokens'] = df['cleaned_text'].apply(tokenize_amharic)\n",
    "    return df\n"
   ]
  },
  {
   "cell_type": "markdown",
   "metadata": {},
   "source": [
    "# Run the preprocessing\n"
   ]
  },
  {
   "cell_type": "code",
   "execution_count": 10,
   "metadata": {},
   "outputs": [
    {
     "data": {
      "text/html": [
       "<div>\n",
       "<style scoped>\n",
       "    .dataframe tbody tr th:only-of-type {\n",
       "        vertical-align: middle;\n",
       "    }\n",
       "\n",
       "    .dataframe tbody tr th {\n",
       "        vertical-align: top;\n",
       "    }\n",
       "\n",
       "    .dataframe thead th {\n",
       "        text-align: right;\n",
       "    }\n",
       "</style>\n",
       "<table border=\"1\" class=\"dataframe\">\n",
       "  <thead>\n",
       "    <tr style=\"text-align: right;\">\n",
       "      <th></th>\n",
       "      <th>Channel Title</th>\n",
       "      <th>Channel Username</th>\n",
       "      <th>ID</th>\n",
       "      <th>Message</th>\n",
       "      <th>Date</th>\n",
       "      <th>Media Path</th>\n",
       "      <th>cleaned_text</th>\n",
       "      <th>tokens</th>\n",
       "    </tr>\n",
       "  </thead>\n",
       "  <tbody>\n",
       "    <tr>\n",
       "      <th>0</th>\n",
       "      <td>ሀይሚ ቦንዳ/Haymi Bonda</td>\n",
       "      <td>Yebonda_libsoch</td>\n",
       "      <td>4158</td>\n",
       "      <td>#መልካም_በዓል ❤\\n\\n✝ለመላው የክርስትና እምነት ተከታዮች በሙሉ እንኳ...</td>\n",
       "      <td>2024-09-26 14:37:04+00:00</td>\n",
       "      <td>photos\\Yebonda_libsoch_4158.jpg</td>\n",
       "      <td>ss</td>\n",
       "      <td>[▁s, s]</td>\n",
       "    </tr>\n",
       "    <tr>\n",
       "      <th>1</th>\n",
       "      <td>ሀይሚ ቦንዳ/Haymi Bonda</td>\n",
       "      <td>Yebonda_libsoch</td>\n",
       "      <td>4157</td>\n",
       "      <td>🌼መልካም አዲስ አመት ይሁንልን🌼</td>\n",
       "      <td>2024-09-11 07:26:15+00:00</td>\n",
       "      <td>photos\\Yebonda_libsoch_4157.jpg</td>\n",
       "      <td></td>\n",
       "      <td>[]</td>\n",
       "    </tr>\n",
       "    <tr>\n",
       "      <th>2</th>\n",
       "      <td>ሀይሚ ቦንዳ/Haymi Bonda</td>\n",
       "      <td>Yebonda_libsoch</td>\n",
       "      <td>4156</td>\n",
       "      <td></td>\n",
       "      <td>2024-09-04 19:59:49+00:00</td>\n",
       "      <td>NaN</td>\n",
       "      <td></td>\n",
       "      <td>[]</td>\n",
       "    </tr>\n",
       "    <tr>\n",
       "      <th>3</th>\n",
       "      <td>ሀይሚ ቦንዳ/Haymi Bonda</td>\n",
       "      <td>Yebonda_libsoch</td>\n",
       "      <td>4155</td>\n",
       "      <td>♨️ውድ የሀይሚ ቦንዳ ደንበኞቻችን  ከሞያሌ ያመጣናቸውን ጥራት ያላቸው \\...</td>\n",
       "      <td>2024-09-03 18:55:54+00:00</td>\n",
       "      <td>NaN</td>\n",
       "      <td></td>\n",
       "      <td>[]</td>\n",
       "    </tr>\n",
       "    <tr>\n",
       "      <th>4</th>\n",
       "      <td>ሀይሚ ቦንዳ/Haymi Bonda</td>\n",
       "      <td>Yebonda_libsoch</td>\n",
       "      <td>4154</td>\n",
       "      <td>ከነገ ጀምሮ ልብሶችን ከ50 ብር ጀምሮ ሱቃችን መጥተው መገበያየት ይችላሉ...</td>\n",
       "      <td>2024-08-28 18:21:13+00:00</td>\n",
       "      <td>NaN</td>\n",
       "      <td></td>\n",
       "      <td>[]</td>\n",
       "    </tr>\n",
       "  </tbody>\n",
       "</table>\n",
       "</div>"
      ],
      "text/plain": [
       "         Channel Title Channel Username    ID  \\\n",
       "0  ሀይሚ ቦንዳ/Haymi Bonda  Yebonda_libsoch  4158   \n",
       "1  ሀይሚ ቦንዳ/Haymi Bonda  Yebonda_libsoch  4157   \n",
       "2  ሀይሚ ቦንዳ/Haymi Bonda  Yebonda_libsoch  4156   \n",
       "3  ሀይሚ ቦንዳ/Haymi Bonda  Yebonda_libsoch  4155   \n",
       "4  ሀይሚ ቦንዳ/Haymi Bonda  Yebonda_libsoch  4154   \n",
       "\n",
       "                                             Message  \\\n",
       "0  #መልካም_በዓል ❤\\n\\n✝ለመላው የክርስትና እምነት ተከታዮች በሙሉ እንኳ...   \n",
       "1                               🌼መልካም አዲስ አመት ይሁንልን🌼   \n",
       "2                                                      \n",
       "3  ♨️ውድ የሀይሚ ቦንዳ ደንበኞቻችን  ከሞያሌ ያመጣናቸውን ጥራት ያላቸው \\...   \n",
       "4  ከነገ ጀምሮ ልብሶችን ከ50 ብር ጀምሮ ሱቃችን መጥተው መገበያየት ይችላሉ...   \n",
       "\n",
       "                        Date                       Media Path cleaned_text  \\\n",
       "0  2024-09-26 14:37:04+00:00  photos\\Yebonda_libsoch_4158.jpg           ss   \n",
       "1  2024-09-11 07:26:15+00:00  photos\\Yebonda_libsoch_4157.jpg                \n",
       "2  2024-09-04 19:59:49+00:00                              NaN                \n",
       "3  2024-09-03 18:55:54+00:00                              NaN                \n",
       "4  2024-08-28 18:21:13+00:00                              NaN                \n",
       "\n",
       "    tokens  \n",
       "0  [▁s, s]  \n",
       "1       []  \n",
       "2       []  \n",
       "3       []  \n",
       "4       []  "
      ]
     },
     "execution_count": 10,
     "metadata": {},
     "output_type": "execute_result"
    }
   ],
   "source": [
    "df_preprocessed = preprocess_data(df)\n",
    "df_preprocessed.head()"
   ]
  },
  {
   "cell_type": "markdown",
   "metadata": {},
   "source": [
    "# Save the preprocessed data \n"
   ]
  },
  {
   "cell_type": "code",
   "execution_count": 11,
   "metadata": {},
   "outputs": [
    {
     "name": "stdout",
     "output_type": "stream",
     "text": [
      "Preprocessing complete. Data saved to ../data/preprocessed_telegram_data.csv\n"
     ]
    }
   ],
   "source": [
    "# Save the preprocessed data for later tasks\n",
    "output_path = '../data/preprocessed_telegram_data.csv'\n",
    "df_preprocessed.to_csv(output_path, index=False)\n",
    "\n",
    "print(\"Preprocessing complete. Data saved to\", output_path)"
   ]
  }
 ],
 "metadata": {
  "kernelspec": {
   "display_name": "venv",
   "language": "python",
   "name": "python3"
  },
  "language_info": {
   "codemirror_mode": {
    "name": "ipython",
    "version": 3
   },
   "file_extension": ".py",
   "mimetype": "text/x-python",
   "name": "python",
   "nbconvert_exporter": "python",
   "pygments_lexer": "ipython3",
   "version": "3.12.6"
  }
 },
 "nbformat": 4,
 "nbformat_minor": 2
}
